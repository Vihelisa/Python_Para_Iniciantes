{
  "nbformat": 4,
  "nbformat_minor": 0,
  "metadata": {
    "colab": {
      "name": "Cópia de Python_para_iniciantes.FOR_LOOP",
      "provenance": [],
      "authorship_tag": "ABX9TyNZs1sTLPo6lCtTkmOF1nSu",
      "include_colab_link": true
    },
    "kernelspec": {
      "name": "python3",
      "display_name": "Python 3"
    }
  },
  "cells": [
    {
      "cell_type": "markdown",
      "metadata": {
        "id": "view-in-github",
        "colab_type": "text"
      },
      "source": [
        "<a href=\"https://colab.research.google.com/github/Vihelisa/Python_Para_Iniciantes/blob/easy/C%C3%B3pia_de_Python_para_iniciantes_FOR_LOOP.ipynb\" target=\"_parent\"><img src=\"https://colab.research.google.com/assets/colab-badge.svg\" alt=\"Open In Colab\"/></a>"
      ]
    },
    {
      "cell_type": "code",
      "metadata": {
        "colab": {
          "base_uri": "https://localhost:8080/"
        },
        "id": "4qxyc-OCc0WB",
        "outputId": "a8373935-81b6-43fe-9054-0242b52c5504"
      },
      "source": [
        "for x in range(0,5):\r\n",
        "  print('O valor de x é:', x)\r\n"
      ],
      "execution_count": null,
      "outputs": [
        {
          "output_type": "stream",
          "text": [
            "O valor de x é: 0\n",
            "O valor de x é: 1\n",
            "O valor de x é: 2\n",
            "O valor de x é: 3\n",
            "O valor de x é: 4\n"
          ],
          "name": "stdout"
        }
      ]
    },
    {
      "cell_type": "code",
      "metadata": {
        "colab": {
          "base_uri": "https://localhost:8080/"
        },
        "id": "SxEtukpZdqOv",
        "outputId": "49e4f4c4-a062-410f-da45-8ac3971a7be9"
      },
      "source": [
        "nome = input('Digite um nome:')\r\n",
        "for letra in nome:\r\n",
        "  print(letra)"
      ],
      "execution_count": null,
      "outputs": [
        {
          "output_type": "stream",
          "text": [
            "Digite um nome:Vitória\n",
            "V\n",
            "i\n",
            "t\n",
            "ó\n",
            "r\n",
            "i\n",
            "a\n"
          ],
          "name": "stdout"
        }
      ]
    },
    {
      "cell_type": "code",
      "metadata": {
        "id": "DlmC_NL69ngp",
        "colab": {
          "base_uri": "https://localhost:8080/"
        },
        "outputId": "12ad96b9-7496-4733-d3ae-5b88208fe575"
      },
      "source": [
        "dias_da_semana = ['segunda', 'terça', 'quarta', 'quinta', 'sexta', 'sábado', 'domingo']\r\n",
        "for dia in dias_da_semana:\r\n",
        "  print(dia)\r\n"
      ],
      "execution_count": null,
      "outputs": [
        {
          "output_type": "stream",
          "text": [
            "segunda\n",
            "terça\n",
            "quarta\n",
            "quinta\n",
            "sexta\n",
            "sábado\n",
            "domingo\n"
          ],
          "name": "stdout"
        }
      ]
    },
    {
      "cell_type": "code",
      "metadata": {
        "colab": {
          "base_uri": "https://localhost:8080/"
        },
        "id": "Nv2zpuXzmM-T",
        "outputId": "33466db7-f8e6-4e59-e3c4-a3d5a3abdf69"
      },
      "source": [
        "lista_nomes = ['Tonny Stark']\r\n",
        "saida = 's'\r\n",
        "for nome in lista_nomes:\r\n",
        "    if nome != 's':\r\n",
        "      lista_nomes.append(input(\"Digite um nome:\"))\r\n",
        "      print(lista_nomes)\r\n",
        "    else:\r\n",
        "      lista_nomes.remove('s')\r\n",
        "      print(lista_nomes)\r\n",
        "      break"
      ],
      "execution_count": 3,
      "outputs": [
        {
          "output_type": "stream",
          "text": [
            "Digite um nome:Thor\n",
            "['Tonny Stark', 'Thor']\n",
            "Digite um nome:Hulk\n",
            "['Tonny Stark', 'Thor', 'Hulk']\n",
            "Digite um nome:Viúva Negra\n",
            "['Tonny Stark', 'Thor', 'Hulk', 'Viúva Negra']\n",
            "Digite um nome:s\n",
            "['Tonny Stark', 'Thor', 'Hulk', 'Viúva Negra', 's']\n",
            "['Tonny Stark', 'Thor', 'Hulk', 'Viúva Negra']\n"
          ],
          "name": "stdout"
        }
      ]
    },
    {
      "cell_type": "code",
      "metadata": {
        "id": "wtkrmTAL-Kqh",
        "colab": {
          "base_uri": "https://localhost:8080/"
        },
        "outputId": "06495f99-9e8f-4cb7-f2fd-1e4adf777b6e"
      },
      "source": [
        "email = input('Insira teu e-mail:')\r\n",
        "emails_list = ['eujavi@eai.com', 'eusoupoderoso@gmail.com', 'eusourico@riquissimo.com']\r\n",
        "\r\n",
        "for verifica in emails_list:\r\n",
        "  if email in emails_list:\r\n",
        "     print('Usuário ativo!!')\r\n",
        "  else:\r\n",
        "    print('Usuário não encontrado, por favor realize seu cadastro.')\r\n",
        "    emails_list.append(email)\r\n",
        "    print(emails_list)\r\n",
        "    break"
      ],
      "execution_count": 5,
      "outputs": [
        {
          "output_type": "stream",
          "text": [
            "Insira teu e-mail:eujav@eai.com\n",
            "Usuário não encontrado, por favor realize seu cadastro.\n",
            "['eujavi@eai.com', 'eusoupoderoso@gmail.com', 'eusourico@riquissimo.com', 'eujav@eai.com']\n"
          ],
          "name": "stdout"
        }
      ]
    },
    {
      "cell_type": "code",
      "metadata": {
        "id": "Fzjf7WRU5ykO"
      },
      "source": [
        ""
      ],
      "execution_count": null,
      "outputs": []
    }
  ]
}