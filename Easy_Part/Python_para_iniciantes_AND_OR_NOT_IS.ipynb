{
  "nbformat": 4,
  "nbformat_minor": 0,
  "metadata": {
    "colab": {
      "name": "Python_para_iniciantes.AND_OR_NOT_IS",
      "provenance": [],
      "collapsed_sections": []
    },
    "kernelspec": {
      "name": "python3",
      "display_name": "Python 3"
    }
  },
  "cells": [
    {
      "cell_type": "code",
      "metadata": {
        "id": "aD5Oy1BWqD9E"
      },
      "source": [
        "\"\"\"\r\n",
        "  Estruturas lógicas: and(e), or(ou), not(não), is(é)\r\n",
        "  operadores unários: not, is\r\n",
        "  operadores binários:and, or\r\n",
        "\r\n",
        "  AND = Para o 'and' ambos precisam entrar na condição estipulada;\r\n",
        "  OR = Para o 'or' apenas uma das variáveis precisa estar dentro da condição estipulada;\r\n",
        "  NOT = Para o 'not' os valores dos booleanos são invertidos\r\n",
        "  IS = Para o 'is' \r\n",
        "  \r\n",
        "\"\"\""
      ],
      "execution_count": null,
      "outputs": []
    },
    {
      "cell_type": "markdown",
      "metadata": {
        "id": "ua37vZpRy3Ef"
      },
      "source": [
        "AND"
      ]
    },
    {
      "cell_type": "code",
      "metadata": {
        "colab": {
          "base_uri": "https://localhost:8080/"
        },
        "id": "27Vme2fmtrLe",
        "outputId": "5ffd2ae5-b00a-4ae7-c59f-527f7f325846"
      },
      "source": [
        "ativo = True\r\n",
        "logado = True\r\n",
        "\r\n",
        "if ativo and logado:\r\n",
        "  print('usuário ativo no sistema.')\r\n",
        "\r\n",
        "else:\r\n",
        "  print('Você precisa ativar a sua conta, por favor cheque seu e-mail')  "
      ],
      "execution_count": null,
      "outputs": [
        {
          "output_type": "stream",
          "text": [
            "usuário ativo no sistema.\n"
          ],
          "name": "stdout"
        }
      ]
    },
    {
      "cell_type": "code",
      "metadata": {
        "colab": {
          "base_uri": "https://localhost:8080/"
        },
        "id": "9OE3YKmEyvxS",
        "outputId": "0cc0f232-ac8c-4051-bb6b-4d45697d6416"
      },
      "source": [
        "ativo = False\r\n",
        "logado = True\r\n",
        "\r\n",
        "if ativo and logado:\r\n",
        "  print('usuário ativo no sistema.')\r\n",
        "\r\n",
        "else:\r\n",
        "  print('Você precisa ativar a sua conta, por favor cheque seu e-mail')  "
      ],
      "execution_count": null,
      "outputs": [
        {
          "output_type": "stream",
          "text": [
            "Você precisa ativar a sua conta, por favor cheque seu e-mail\n"
          ],
          "name": "stdout"
        }
      ]
    },
    {
      "cell_type": "markdown",
      "metadata": {
        "id": "IKJljvuQy6S1"
      },
      "source": [
        "OR\r\n"
      ]
    },
    {
      "cell_type": "code",
      "metadata": {
        "colab": {
          "base_uri": "https://localhost:8080/"
        },
        "id": "t0pmoyHLy69l",
        "outputId": "5ec975e0-413f-455e-daf7-b260605158cf"
      },
      "source": [
        "ativo = True\r\n",
        "logado = False\r\n",
        "\r\n",
        "if ativo or logado:\r\n",
        "  print('usuário ativo no sistema.')\r\n",
        "\r\n",
        "else:\r\n",
        "  print('Você precisa ativar a sua conta, por favor cheque seu e-mail')  "
      ],
      "execution_count": null,
      "outputs": [
        {
          "output_type": "stream",
          "text": [
            "usuário ativo no sistema.\n"
          ],
          "name": "stdout"
        }
      ]
    },
    {
      "cell_type": "markdown",
      "metadata": {
        "id": "c2MW33otztXi"
      },
      "source": [
        "NOT"
      ]
    },
    {
      "cell_type": "code",
      "metadata": {
        "colab": {
          "base_uri": "https://localhost:8080/"
        },
        "id": "fmr7Cbvjzt_g",
        "outputId": "dbc9adba-d466-4209-a6ed-3ce7e4658438"
      },
      "source": [
        "ativo = True\r\n",
        "\r\n",
        "if not ativo:\r\n",
        "    print('Usuário não encontrado, por favor realize seu cadastro.')\r\n",
        "\r\n",
        "else:\r\n",
        "  print('Usuário está ativo!!')"
      ],
      "execution_count": null,
      "outputs": [
        {
          "output_type": "stream",
          "text": [
            "Usuário está ativo!!\n"
          ],
          "name": "stdout"
        }
      ]
    },
    {
      "cell_type": "code",
      "metadata": {
        "colab": {
          "base_uri": "https://localhost:8080/"
        },
        "id": "BW7Zwume1P4d",
        "outputId": "94edf193-edba-4e41-922d-c96a198a56f6"
      },
      "source": [
        "ativo = False\r\n",
        "\r\n",
        "if not ativo:\r\n",
        "    print('Usuário não encontrado, por favor realize seu cadastro.')\r\n",
        "\r\n",
        "else:\r\n",
        "  print('Usuário está ativo!!')"
      ],
      "execution_count": null,
      "outputs": [
        {
          "output_type": "stream",
          "text": [
            "Usuário não encontrado, por favor realize seu cadastro.\n"
          ],
          "name": "stdout"
        }
      ]
    },
    {
      "cell_type": "markdown",
      "metadata": {
        "id": "iYHAe6_u1Z3l"
      },
      "source": [
        "IS"
      ]
    },
    {
      "cell_type": "code",
      "metadata": {
        "colab": {
          "base_uri": "https://localhost:8080/"
        },
        "id": "1jc1pfLh1abl",
        "outputId": "fad42362-bf48-453c-9bc9-70a4b349e072"
      },
      "source": [
        "ativo = True\r\n",
        "\r\n",
        "if ativo is True:\r\n",
        "    print('Usuário está ativo!!')\r\n",
        "\r\n",
        "else:\r\n",
        "    print('Usuário não encontrado, por favor realize seu cadastro.')\r\n"
      ],
      "execution_count": null,
      "outputs": [
        {
          "output_type": "stream",
          "text": [
            "Usuário está ativo!!\n"
          ],
          "name": "stdout"
        }
      ]
    },
    {
      "cell_type": "code",
      "metadata": {
        "colab": {
          "base_uri": "https://localhost:8080/"
        },
        "id": "IuEx2KXo1333",
        "outputId": "6c64eaf0-ab68-47f9-fd7a-9ab1c75ffcf2"
      },
      "source": [
        "ativo = False\r\n",
        "\r\n",
        "if ativo is True:\r\n",
        "    print('Usuário está ativo!!')\r\n",
        "\r\n",
        "else:\r\n",
        "    print('Usuário não encontrado, por favor realize seu cadastro.')\r\n"
      ],
      "execution_count": 2,
      "outputs": [
        {
          "output_type": "stream",
          "text": [
            "Usuário não encontrado, por favor realize seu cadastro.\n"
          ],
          "name": "stdout"
        }
      ]
    },
    {
      "cell_type": "code",
      "metadata": {
        "colab": {
          "base_uri": "https://localhost:8080/"
        },
        "id": "VYdcu4dnuJ_q",
        "outputId": "66ed6d6c-3785-478d-9db6-a4d7e6f3acb1"
      },
      "source": [
        "#A variável ativo é True?\r\n",
        "print(ativo is True)\r\n",
        "\r\n",
        "#A variável ativo é False?\r\n",
        "print(ativo is False)\r\n",
        "#troca o valor da variável"
      ],
      "execution_count": 4,
      "outputs": [
        {
          "output_type": "stream",
          "text": [
            "False\n",
            "True\n"
          ],
          "name": "stdout"
        }
      ]
    },
    {
      "cell_type": "code",
      "metadata": {
        "colab": {
          "base_uri": "https://localhost:8080/"
        },
        "id": "yEvGInRSuOlB",
        "outputId": "ecb9abb1-967d-4144-b8de-f3f1b03da58c"
      },
      "source": [
        "#\r\n",
        "nome = 'Thor'\r\n",
        "nome2 = 'HULK' \r\n",
        "nome3 = 'vanda' \r\n",
        "x = nome.isupper()\r\n",
        "y = nome2.isupper()\r\n",
        "z = nome3.isupper()\r\n",
        "print('É {}'.format(x))\r\n",
        "print('É {}'.format(y))\r\n",
        "print('É {}'.format(z))"
      ],
      "execution_count": 10,
      "outputs": [
        {
          "output_type": "stream",
          "text": [
            "É False\n",
            "É True\n",
            "É False\n"
          ],
          "name": "stdout"
        }
      ]
    },
    {
      "cell_type": "code",
      "metadata": {
        "colab": {
          "base_uri": "https://localhost:8080/"
        },
        "id": "YrrwPNjkwNFc",
        "outputId": "455559fe-fa56-4af2-f77e-04441dbbc618"
      },
      "source": [
        "x1 = nome.istitle()\r\n",
        "y1 = nome2.istitle()\r\n",
        "z1 = nome3.istitle()\r\n",
        "print('É {}'.format(x1))\r\n",
        "print('É {}'.format(y1))\r\n",
        "print('É {}'.format(z1))\r\n"
      ],
      "execution_count": 11,
      "outputs": [
        {
          "output_type": "stream",
          "text": [
            "É True\n",
            "É False\n",
            "É False\n"
          ],
          "name": "stdout"
        }
      ]
    },
    {
      "cell_type": "code",
      "metadata": {
        "colab": {
          "base_uri": "https://localhost:8080/"
        },
        "id": "M8Xqg8cGwwB-",
        "outputId": "c7cb0d05-131b-4fba-8633-b58207be95b5"
      },
      "source": [
        "a = nome2.title().istitle() #tranforma o nome para apenas a primeira letra em maiúscula e pergunta se é desse tipo.\r\n",
        "print(a)"
      ],
      "execution_count": 12,
      "outputs": [
        {
          "output_type": "stream",
          "text": [
            "True\n"
          ],
          "name": "stdout"
        }
      ]
    },
    {
      "cell_type": "code",
      "metadata": {
        "id": "7cuAusyv13cq"
      },
      "source": [
        ""
      ],
      "execution_count": null,
      "outputs": []
    }
  ]
}