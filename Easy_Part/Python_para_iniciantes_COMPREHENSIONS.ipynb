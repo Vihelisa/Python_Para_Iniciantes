{
  "nbformat": 4,
  "nbformat_minor": 0,
  "metadata": {
    "colab": {
      "name": "Python_para_iniciantes.COMPREHENSIONS",
      "provenance": [],
      "authorship_tag": "ABX9TyMWsS0rJ9Peu9IrkulEM+yM",
      "include_colab_link": true
    },
    "kernelspec": {
      "name": "python3",
      "display_name": "Python 3"
    }
  },
  "cells": [
    {
      "cell_type": "markdown",
      "metadata": {
        "id": "view-in-github",
        "colab_type": "text"
      },
      "source": [
        "<a href=\"https://colab.research.google.com/github/Vihelisa/Python_Para_Iniciantes/blob/easy/Python_para_iniciantes_COMPREHENSIONS.ipynb\" target=\"_parent\"><img src=\"https://colab.research.google.com/assets/colab-badge.svg\" alt=\"Open In Colab\"/></a>"
      ]
    },
    {
      "cell_type": "markdown",
      "metadata": {
        "id": "wMxUTNoBLo2b"
      },
      "source": [
        "ANY"
      ]
    },
    {
      "cell_type": "code",
      "metadata": {
        "colab": {
          "base_uri": "https://localhost:8080/"
        },
        "id": "MrgVsIN8Ewyv",
        "outputId": "220320aa-5959-4b6e-a098-705051ef36f3"
      },
      "source": [
        "#Quer saber se um dos valores da lista é verdadeiro\r\n",
        "true_list = [True, True, True]\r\n",
        "false_list = [False, False, False]\r\n",
        "mix_list = [True, False, True, False]\r\n",
        "\r\n",
        "d1 = any(true_list) #Diz que é verdadeiro (True), pois todos os valores são verdadeiros;\r\n",
        "\r\n",
        "d2 = any(false_list) #Dix que é falso (False), pois todos os valores são falsos;\r\n",
        "\r\n",
        "d3 = any(mix_list) #Diz que é verdadeiro (True), pois ao menos 1 valor é verdadeiro;\r\n",
        "print(d1, d2, d3)"
      ],
      "execution_count": 5,
      "outputs": [
        {
          "output_type": "stream",
          "text": [
            "True False True\n"
          ],
          "name": "stdout"
        }
      ]
    },
    {
      "cell_type": "markdown",
      "metadata": {
        "id": "2COubGLNNS8q"
      },
      "source": [
        "ALL"
      ]
    },
    {
      "cell_type": "code",
      "metadata": {
        "colab": {
          "base_uri": "https://localhost:8080/"
        },
        "id": "9uuKAj5eMJ45",
        "outputId": "c6eae1c3-d13f-4175-d272-69a6c8eb245e"
      },
      "source": [
        "#Analisa se todos são verdadeiros (True)\r\n",
        "d1 = all(true_list) #Retorna True pois todos os valores são verdadeiros; \r\n",
        "\r\n",
        "d2 = all(false_list) #Retorna False pois todos os valores são falsos; \r\n",
        "\r\n",
        "d3 = all(mix_list) #Retorna False pois ao menos 1 valor é falso; \r\n",
        "\r\n",
        "print(d1, d2, d3)"
      ],
      "execution_count": 6,
      "outputs": [
        {
          "output_type": "stream",
          "text": [
            "True False False\n"
          ],
          "name": "stdout"
        }
      ]
    },
    {
      "cell_type": "markdown",
      "metadata": {
        "id": "s0QXGrBXOxfo"
      },
      "source": [
        "COMPREHENSION"
      ]
    },
    {
      "cell_type": "code",
      "metadata": {
        "colab": {
          "base_uri": "https://localhost:8080/"
        },
        "id": "kSF_r75_Nuck",
        "outputId": "0da8f230-3d66-43a7-95ea-3c5705f93bf8"
      },
      "source": [
        "#1° método para criar uma lista:\r\n",
        "lista = []\r\n",
        "for x in range(5):\r\n",
        "  lista.append(x)\r\n",
        "  print(lista)\r\n"
      ],
      "execution_count": 9,
      "outputs": [
        {
          "output_type": "stream",
          "text": [
            "[0]\n",
            "[0, 1]\n",
            "[0, 1, 2]\n",
            "[0, 1, 2, 3]\n",
            "[0, 1, 2, 3, 4]\n"
          ],
          "name": "stdout"
        }
      ]
    },
    {
      "cell_type": "code",
      "metadata": {
        "colab": {
          "base_uri": "https://localhost:8080/"
        },
        "id": "XOh1JqqNPJZi",
        "outputId": "c976b67f-9939-4761-dda2-17d9ce231f2c"
      },
      "source": [
        "#Comprehension é um método mais fácil para criar listas \r\n",
        "lista1 = [x for x in range(6)] #Coloca-se o for dentro da lista e antes do for é preciso \r\n",
        "print(lista1)                  #indicar o que nós queremos que entre na lista \r\n"
      ],
      "execution_count": 10,
      "outputs": [
        {
          "output_type": "stream",
          "text": [
            "[0, 1, 2, 3, 4, 5]\n"
          ],
          "name": "stdout"
        }
      ]
    },
    {
      "cell_type": "code",
      "metadata": {
        "id": "IMkoN_4FQVCT"
      },
      "source": [
        ""
      ],
      "execution_count": null,
      "outputs": []
    }
  ]
}