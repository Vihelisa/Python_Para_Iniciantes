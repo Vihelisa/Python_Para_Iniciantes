{
  "nbformat": 4,
  "nbformat_minor": 0,
  "metadata": {
    "colab": {
      "name": "Python_para_iniciantes.DICIONÁRIOS",
      "provenance": [],
      "authorship_tag": "ABX9TyMrkLoQWE6UHEYIBlq/uKqA",
      "include_colab_link": true
    },
    "kernelspec": {
      "name": "python3",
      "display_name": "Python 3"
    }
  },
  "cells": [
    {
      "cell_type": "markdown",
      "metadata": {
        "id": "view-in-github",
        "colab_type": "text"
      },
      "source": [
        "<a href=\"https://colab.research.google.com/github/Vihelisa/Python_Para_Iniciantes/blob/main/Python_para_iniciantes_DICION%C3%81RIOS.ipynb\" target=\"_parent\"><img src=\"https://colab.research.google.com/assets/colab-badge.svg\" alt=\"Open In Colab\"/></a>"
      ]
    },
    {
      "cell_type": "code",
      "metadata": {
        "colab": {
          "base_uri": "https://localhost:8080/"
        },
        "id": "GVYf_aJrDqIg",
        "outputId": "3db6a9a2-95bd-4a09-c599-420593052f96"
      },
      "source": [
        "#Parecido com as listas porém cada variável pode ter um 'nome'\r\n",
        "phone_list = {'Tonny Stark': 91919191, 'Thor': 929292922, 'Capitão América': 9393939339}\r\n",
        "print(phone_list)"
      ],
      "execution_count": 1,
      "outputs": [
        {
          "output_type": "stream",
          "text": [
            "{'Tonny Stark': 91919191, 'Thor': 929292922, 'Capitão América': 9393939339}\n"
          ],
          "name": "stdout"
        }
      ]
    },
    {
      "cell_type": "markdown",
      "metadata": {
        "id": "-yRb0YDbFeOE"
      },
      "source": [
        "Adicionar um elemento ao dicionário"
      ]
    },
    {
      "cell_type": "code",
      "metadata": {
        "colab": {
          "base_uri": "https://localhost:8080/"
        },
        "id": "jZXsYz0RFFso",
        "outputId": "225e5aef-497b-4515-cb01-5cdb87ce6466"
      },
      "source": [
        "phone_list['Viuva Negra'] = 949494944\r\n",
        "print(phone_list)\r\n",
        "#USUÁRIO ADD:\r\n",
        "phone_list[input('Insira o nome:')] = input('Insira o número:')\r\n",
        "print(phone_list)"
      ],
      "execution_count": 6,
      "outputs": [
        {
          "output_type": "stream",
          "text": [
            "{'Tonny Stark': 91919191, 'Thor': 929292922, 'Capitão América': 9393939339, 'Viuva Negra': 949494944, 'Hulk': '8787878'}\n",
            "Insira o número:666666666\n",
            "Insira o nome:Thanos\n",
            "{'Tonny Stark': 91919191, 'Thor': 929292922, 'Capitão América': 9393939339, 'Viuva Negra': 949494944, 'Hulk': '8787878', 'Thanos': '666666666'}\n"
          ],
          "name": "stdout"
        }
      ]
    },
    {
      "cell_type": "markdown",
      "metadata": {
        "id": "mm6wo1MVHON9"
      },
      "source": [
        "Deletar um elemento do dicionário"
      ]
    },
    {
      "cell_type": "code",
      "metadata": {
        "colab": {
          "base_uri": "https://localhost:8080/"
        },
        "id": "f50_8EZkF4uU",
        "outputId": "457a9c6a-b385-4fe0-c5e0-b6757f12207c"
      },
      "source": [
        "del phone_list['Thanos']\r\n",
        "print(phone_list)"
      ],
      "execution_count": 7,
      "outputs": [
        {
          "output_type": "stream",
          "text": [
            "{'Tonny Stark': 91919191, 'Thor': 929292922, 'Capitão América': 9393939339, 'Viuva Negra': 949494944, 'Hulk': '8787878'}\n"
          ],
          "name": "stdout"
        }
      ]
    }
  ]
}