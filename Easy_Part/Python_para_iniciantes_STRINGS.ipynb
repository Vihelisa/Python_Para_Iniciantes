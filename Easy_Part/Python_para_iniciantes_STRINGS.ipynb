{
  "nbformat": 4,
  "nbformat_minor": 0,
  "metadata": {
    "colab": {
      "name": "Python_para_iniciantes.STRINGS",
      "provenance": [],
      "authorship_tag": "ABX9TyNv2xNV0Yw8sAPAK9IU5Zu0",
      "include_colab_link": true
    },
    "kernelspec": {
      "name": "python3",
      "display_name": "Python 3"
    }
  },
  "cells": [
    {
      "cell_type": "markdown",
      "metadata": {
        "id": "view-in-github",
        "colab_type": "text"
      },
      "source": [
        "<a href=\"https://colab.research.google.com/github/Vihelisa/Python_Para_Iniciantes/blob/main/Python_para_iniciantes_STRINGS.ipynb\" target=\"_parent\"><img src=\"https://colab.research.google.com/assets/colab-badge.svg\" alt=\"Open In Colab\"/></a>"
      ]
    },
    {
      "cell_type": "code",
      "metadata": {
        "colab": {
          "base_uri": "https://localhost:8080/"
        },
        "id": "kVM_bfFMlrhF",
        "outputId": "8556e591-1db0-4540-d09f-168efbd3c514"
      },
      "source": [
        "#STRINGS = Conjunto de caracteres podendo ser letras ou números\r\n",
        "\r\n",
        "#Criando strings:\r\n",
        "'Tonny Stark'\r\n",
        "\"Thor o deus do Trovão\"\r\n",
        "\r\n",
        "nome = 'Capitão América'\r\n",
        "print(nome)\r\n",
        "\r\n",
        "eu = \"Eu sou o Capitão Cueca e eu tenho um filme\"\r\n",
        "print(eu)\r\n"
      ],
      "execution_count": null,
      "outputs": [
        {
          "output_type": "stream",
          "text": [
            "Capitão América\n",
            "Eu sou o Capitão Cueca e eu tenho um filme\n"
          ],
          "name": "stdout"
        }
      ]
    },
    {
      "cell_type": "markdown",
      "metadata": {
        "id": "l2sb7vV8u1zS"
      },
      "source": [
        "Mostrando apenas uma parte da string"
      ]
    },
    {
      "cell_type": "code",
      "metadata": {
        "colab": {
          "base_uri": "https://localhost:8080/"
        },
        "id": "qzGDomcnu1PN",
        "outputId": "c0e4afe4-4a79-4978-b504-e34d2f2f2cbf"
      },
      "source": [
        "alteza = 'Princesa Léia' #cada letra da string é uma posição sendo enumeradas de 0 até a posição final \r\n",
        "p = alteza[0:9] #pode-se escolher o que se quer a partir da posição das letras, sendo antes dos 2 pontos a primira letra e o último a ultima letra.\r\n",
        "r = alteza[9:] #quando colocamos apenas a primeira posição da letra q queremos e depois dos dois pontos deixamos em aberto, quer dizer que \r\n",
        "          #foi escolhodo até o final da string. \r\n",
        "i = alteza[:10] #o mesmo acontece quando colocamos a posição apenas após os 2 pontos, quer dizer que queremos tudo que está antes até aquela posição.\r\n",
        "n = alteza + alteza \r\n",
        "c = alteza * 3\r\n",
        "print(p)\r\n",
        "print(r)\r\n",
        "print(i)\r\n",
        "print(n)\r\n",
        "print(c)"
      ],
      "execution_count": null,
      "outputs": [
        {
          "output_type": "stream",
          "text": [
            "Princesa \n",
            "Léia\n",
            "Princesa L\n",
            "Princesa LéiaPrincesa Léia\n",
            "Princesa LéiaPrincesa LéiaPrincesa Léia\n"
          ],
          "name": "stdout"
        }
      ]
    },
    {
      "cell_type": "markdown",
      "metadata": {
        "id": "mJ4_mQmczv-s"
      },
      "source": [
        "Condições com strings"
      ]
    },
    {
      "cell_type": "code",
      "metadata": {
        "colab": {
          "base_uri": "https://localhost:8080/"
        },
        "id": "_nPG8obusAAA",
        "outputId": "eb772d37-0fb3-40db-e701-0269f648c32b"
      },
      "source": [
        "if 'P' in alteza:\r\n",
        "  print(alteza)"
      ],
      "execution_count": null,
      "outputs": [
        {
          "output_type": "stream",
          "text": [
            "Princesa Léia\n"
          ],
          "name": "stdout"
        }
      ]
    },
    {
      "cell_type": "code",
      "metadata": {
        "colab": {
          "base_uri": "https://localhost:8080/"
        },
        "id": "-E0kNKN_0FXW",
        "outputId": "140ff795-4f58-4387-a0ff-1540615d2cb3"
      },
      "source": [
        "'a' in alteza"
      ],
      "execution_count": null,
      "outputs": [
        {
          "output_type": "execute_result",
          "data": {
            "text/plain": [
              "True"
            ]
          },
          "metadata": {
            "tags": []
          },
          "execution_count": 16
        }
      ]
    },
    {
      "cell_type": "code",
      "metadata": {
        "colab": {
          "base_uri": "https://localhost:8080/"
        },
        "id": "AAjFLhxTz8Kp",
        "outputId": "ec512310-4cd9-4c46-8dd9-61dbd53620e6"
      },
      "source": [
        "'v' in alteza"
      ],
      "execution_count": null,
      "outputs": [
        {
          "output_type": "execute_result",
          "data": {
            "text/plain": [
              "False"
            ]
          },
          "metadata": {
            "tags": []
          },
          "execution_count": 17
        }
      ]
    },
    {
      "cell_type": "code",
      "metadata": {
        "colab": {
          "base_uri": "https://localhost:8080/"
        },
        "id": "_23Jr9O00Wnx",
        "outputId": "396ac30b-6353-4e1f-ceed-cc783aec1e48"
      },
      "source": [
        "'A' in alteza #o Python identifica caracteres minúsculos e maiúsculos como coisas diferentes por isso nesse caso a letra 'A' deu False "
      ],
      "execution_count": null,
      "outputs": [
        {
          "output_type": "execute_result",
          "data": {
            "text/plain": [
              "False"
            ]
          },
          "metadata": {
            "tags": []
          },
          "execution_count": 18
        }
      ]
    },
    {
      "cell_type": "code",
      "metadata": {
        "id": "Ktgx1X6U0Zlq",
        "colab": {
          "base_uri": "https://localhost:8080/"
        },
        "outputId": "c27d169d-8b80-4001-bc87-9f3c3d615e1f"
      },
      "source": [
        "print('Oi, qual seu nome:') #\\n pula uma linha\r\n",
        "nome = input()\r\n",
        "print('Seja bem vindo(a) %s\\n' %(nome))\r\n",
        "print('Qual a sua idade?')\r\n",
        "idade = input()\r\n",
        "print('%s tem %s anos' %(nome, idade))"
      ],
      "execution_count": 5,
      "outputs": [
        {
          "output_type": "stream",
          "text": [
            "Oi, qual seu nome:\n",
            "vi\n",
            "Seja bem vindo(a) vi\n",
            "\n",
            "Qual a sua idade?\n",
            "20\n",
            "vi tem 20 anos\n"
          ],
          "name": "stdout"
        }
      ]
    },
    {
      "cell_type": "code",
      "metadata": {
        "colab": {
          "base_uri": "https://localhost:8080/"
        },
        "id": "H2zGHiR5Wm3D",
        "outputId": "cb79cd94-dec0-431b-a1a7-71bb61f27a95"
      },
      "source": [
        "#outra opção \r\n",
        "print('Oi, qual seu nome:') #\\n pula uma linha\r\n",
        "nome = input()\r\n",
        "print('Seja bem vindo(a) {}\\n'.format(nome))\r\n",
        "print('Qual a sua idade?')\r\n",
        "idade = input()\r\n",
        "print('{} tem {} anos'.format(nome, idade))\r\n"
      ],
      "execution_count": 9,
      "outputs": [
        {
          "output_type": "stream",
          "text": [
            "Oi, qual seu nome:\n",
            "Thor\n",
            "Seja bem vindo(a) Thor\n",
            "\n",
            "Qual a sua idade?\n",
            "25\n",
            "Thor tem 25 anos\n"
          ],
          "name": "stdout"
        }
      ]
    },
    {
      "cell_type": "code",
      "metadata": {
        "id": "WNjpcwSJZzQ4"
      },
      "source": [
        ""
      ],
      "execution_count": null,
      "outputs": []
    }
  ]
}