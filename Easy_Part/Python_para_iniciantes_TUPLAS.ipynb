{
  "nbformat": 4,
  "nbformat_minor": 0,
  "metadata": {
    "colab": {
      "name": "Python_para_iniciantes.TUPLAS",
      "provenance": [],
      "authorship_tag": "ABX9TyPehTrFprfFz0DPFHyp4zZn",
      "include_colab_link": true
    },
    "kernelspec": {
      "name": "python3",
      "display_name": "Python 3"
    }
  },
  "cells": [
    {
      "cell_type": "markdown",
      "metadata": {
        "id": "view-in-github",
        "colab_type": "text"
      },
      "source": [
        "<a href=\"https://colab.research.google.com/github/Vihelisa/Python_Para_Iniciantes/blob/main/Python_para_iniciantes_TUPLAS.ipynb\" target=\"_parent\"><img src=\"https://colab.research.google.com/assets/colab-badge.svg\" alt=\"Open In Colab\"/></a>"
      ]
    },
    {
      "cell_type": "code",
      "metadata": {
        "colab": {
          "base_uri": "https://localhost:8080/"
        },
        "id": "-5DGOotIKXY5",
        "outputId": "ffbb418f-f0a1-4b67-b174-4172a3c52397"
      },
      "source": [
        "#São como as listas, porém a diferença é que não pode add ou retirar nenhum valor \r\n",
        "tuplas = ('Salsicha', 'Velma', 'Dafine', 'Scooby')\r\n",
        "print(tuplas)"
      ],
      "execution_count": 1,
      "outputs": [
        {
          "output_type": "stream",
          "text": [
            "('Salsicha', 'Velma', 'Dafine', 'Scooby')\n"
          ],
          "name": "stdout"
        }
      ]
    },
    {
      "cell_type": "markdown",
      "metadata": {
        "id": "OtgqFZLcN4FX"
      },
      "source": [
        "Funções com tuplas"
      ]
    },
    {
      "cell_type": "code",
      "metadata": {
        "colab": {
          "base_uri": "https://localhost:8080/"
        },
        "id": "9SEQYyd8NjbH",
        "outputId": "833ddf42-38d5-46fe-a347-44b6bb8008f4"
      },
      "source": [
        "#achar uma variável da tupla pela sua posição:\r\n",
        "print(tuplas[0])\r\n",
        "print(tuplas[3])"
      ],
      "execution_count": 5,
      "outputs": [
        {
          "output_type": "stream",
          "text": [
            "Salsicha\n",
            "Scooby\n"
          ],
          "name": "stdout"
        }
      ]
    },
    {
      "cell_type": "code",
      "metadata": {
        "colab": {
          "base_uri": "https://localhost:8080/"
        },
        "id": "c682B6mON93D",
        "outputId": "ecad2a99-c625-4f50-d22e-48e1eb515f19"
      },
      "source": [
        "#Ler mais de uma variável da tupla indicando até q posição deve ser lido:\r\n",
        "print(tuplas[0:2])\r\n",
        "print(tuplas[0:1])\r\n",
        "#Ele sempre corta o elemento da ultima posição, ele mostra até a anterior"
      ],
      "execution_count": 8,
      "outputs": [
        {
          "output_type": "stream",
          "text": [
            "('Salsicha', 'Velma')\n",
            "('Salsicha',)\n"
          ],
          "name": "stdout"
        }
      ]
    },
    {
      "cell_type": "code",
      "metadata": {
        "colab": {
          "base_uri": "https://localhost:8080/"
        },
        "id": "91o2W2KwOgVa",
        "outputId": "081b7830-6a05-4b11-9321-3a23b6988a43"
      },
      "source": [
        "#Lendo o tamanho da tupla(pode ser usado para listas também)\r\n",
        "len(tuplas)"
      ],
      "execution_count": 9,
      "outputs": [
        {
          "output_type": "execute_result",
          "data": {
            "text/plain": [
              "4"
            ]
          },
          "metadata": {
            "tags": []
          },
          "execution_count": 9
        }
      ]
    },
    {
      "cell_type": "code",
      "metadata": {
        "colab": {
          "base_uri": "https://localhost:8080/"
        },
        "id": "XRkm0ifwPpk1",
        "outputId": "521c68aa-cd4c-42cc-8b8f-5c7e59584a38"
      },
      "source": [
        "#Operações com tuplas:\r\n",
        "T = tuplas + tuplas\r\n",
        "print(T)\r\n",
        "U = tuplas * 3\r\n",
        "print(U)"
      ],
      "execution_count": 12,
      "outputs": [
        {
          "output_type": "stream",
          "text": [
            "('Salsicha', 'Velma', 'Dafine', 'Scooby', 'Salsicha', 'Velma', 'Dafine', 'Scooby')\n",
            "('Salsicha', 'Velma', 'Dafine', 'Scooby', 'Salsicha', 'Velma', 'Dafine', 'Scooby', 'Salsicha', 'Velma', 'Dafine', 'Scooby')\n"
          ],
          "name": "stdout"
        }
      ]
    },
    {
      "cell_type": "code",
      "metadata": {
        "colab": {
          "base_uri": "https://localhost:8080/"
        },
        "id": "_QMPAuKqQDrF",
        "outputId": "afda7511-01b1-47d5-aa86-ab610cebc73f"
      },
      "source": [
        "#Verificar se uma variável está dentro da tupla\r\n",
        "'Velma' in tuplas"
      ],
      "execution_count": 13,
      "outputs": [
        {
          "output_type": "execute_result",
          "data": {
            "text/plain": [
              "True"
            ]
          },
          "metadata": {
            "tags": []
          },
          "execution_count": 13
        }
      ]
    },
    {
      "cell_type": "code",
      "metadata": {
        "colab": {
          "base_uri": "https://localhost:8080/"
        },
        "id": "gb1L105JQkai",
        "outputId": "3487e40a-e323-44c5-9229-b7f552a5a656"
      },
      "source": [
        "'Dina' in tuplas"
      ],
      "execution_count": 14,
      "outputs": [
        {
          "output_type": "execute_result",
          "data": {
            "text/plain": [
              "False"
            ]
          },
          "metadata": {
            "tags": []
          },
          "execution_count": 14
        }
      ]
    },
    {
      "cell_type": "code",
      "metadata": {
        "colab": {
          "base_uri": "https://localhost:8080/"
        },
        "id": "LiSUgth4QqNB",
        "outputId": "1d2b72d8-e062-4fd6-dbec-b4d65dbbdff0"
      },
      "source": [
        "#Converter uma lista em uma tupla:\r\n",
        "lista = ['Pé Grande', 'Lobisomem', 'Drácula']\r\n",
        "print(lista)\r\n",
        "Tuplas2 = tuple (lista)\r\n",
        "print(Tuplas2)\r\n",
        "#Convertendo tupla em lista:\r\n",
        "print(tuplas)\r\n",
        "lista_tupla = list (tuplas)\r\n",
        "print(lista_tupla)"
      ],
      "execution_count": 17,
      "outputs": [
        {
          "output_type": "stream",
          "text": [
            "['Pé Grande', 'Lobisomem', 'Drácula']\n",
            "('Pé Grande', 'Lobisomem', 'Drácula')\n",
            "('Salsicha', 'Velma', 'Dafine', 'Scooby')\n",
            "['Salsicha', 'Velma', 'Dafine', 'Scooby']\n"
          ],
          "name": "stdout"
        }
      ]
    },
    {
      "cell_type": "code",
      "metadata": {
        "colab": {
          "base_uri": "https://localhost:8080/"
        },
        "id": "knmuYwxmRk4i",
        "outputId": "7540ccee-8915-4b75-a802-3a5e7f2c6d7d"
      },
      "source": [
        "#Tupla vira um elemento dentro de uma lista:\r\n",
        "tup = [tuplas]\r\n",
        "print(tup)\r\n"
      ],
      "execution_count": 20,
      "outputs": [
        {
          "output_type": "stream",
          "text": [
            "[('Salsicha', 'Velma', 'Dafine', 'Scooby')]\n"
          ],
          "name": "stdout"
        }
      ]
    }
  ]
}