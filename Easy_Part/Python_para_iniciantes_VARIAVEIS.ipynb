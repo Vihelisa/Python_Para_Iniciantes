{
  "nbformat": 4,
  "nbformat_minor": 0,
  "metadata": {
    "colab": {
      "name": "Python_para_iniciantes.VARIAVEIS",
      "provenance": [],
      "authorship_tag": "ABX9TyN4NsqzQ5KDkEEluZ5SPNUS",
      "include_colab_link": true
    },
    "kernelspec": {
      "name": "python3",
      "display_name": "Python 3"
    }
  },
  "cells": [
    {
      "cell_type": "markdown",
      "metadata": {
        "id": "view-in-github",
        "colab_type": "text"
      },
      "source": [
        "<a href=\"https://colab.research.google.com/github/Vihelisa/Python_Para_Iniciantes/blob/main/Python_para_iniciantes_VARIAVEIS.ipynb\" target=\"_parent\"><img src=\"https://colab.research.google.com/assets/colab-badge.svg\" alt=\"Open In Colab\"/></a>"
      ]
    },
    {
      "cell_type": "markdown",
      "metadata": {
        "id": "UPSBx4LxSr4j"
      },
      "source": [
        "Declarando variáveis e fazendo multiplicação\r\n"
      ]
    },
    {
      "cell_type": "code",
      "metadata": {
        "id": "cDZDRXk9Nnx0"
      },
      "source": [
        "valorhora = 4\r\n",
        "dias = 30 \r\n",
        "horastrabalho = 8 \r\n",
        "vencimentomensal = valorhora * horastrabalho * dias\r\n",
        "nome = 'Viótia' #é uma string"
      ],
      "execution_count": 1,
      "outputs": []
    },
    {
      "cell_type": "code",
      "metadata": {
        "id": "EHsaC7APSCyi"
      },
      "source": [
        "print(valorhora)\r\n",
        "print(dias)\r\n",
        "print(horastrabalho)\r\n",
        "print(vencimentomensal)\r\n",
        "print(nome)"
      ],
      "execution_count": null,
      "outputs": []
    },
    {
      "cell_type": "markdown",
      "metadata": {
        "id": "mU3cxJCgS2wD"
      },
      "source": [
        "Soma de variáveis"
      ]
    },
    {
      "cell_type": "code",
      "metadata": {
        "id": "gRGQl4D3S53q"
      },
      "source": [
        "numero1 = 11 \r\n",
        "numero2 = 10 \r\n",
        "resultado = numero1 + numero2 \r\n",
        "print(resultado)"
      ],
      "execution_count": null,
      "outputs": []
    },
    {
      "cell_type": "markdown",
      "metadata": {
        "id": "hWo78tOjbzs3"
      },
      "source": [
        "Mudando o tipo da variável\r\n"
      ]
    },
    {
      "cell_type": "code",
      "metadata": {
        "colab": {
          "base_uri": "https://localhost:8080/"
        },
        "id": "vTLgDbREb4M8",
        "outputId": "40ca926f-d25d-4feb-d87a-c9cf48e17a57"
      },
      "source": [
        "valor_hora = 5 #é um valor inteiro(int)\r\n",
        "vl = float (valor_hora) #transforma em float (decimal)\r\n",
        "print(vl)"
      ],
      "execution_count": 6,
      "outputs": [
        {
          "output_type": "stream",
          "text": [
            "5.0\n"
          ],
          "name": "stdout"
        }
      ]
    },
    {
      "cell_type": "code",
      "metadata": {
        "colab": {
          "base_uri": "https://localhost:8080/"
        },
        "id": "vAyYaXu-TG2v",
        "outputId": "ac8589e5-2aeb-423a-a229-21c24009a14c"
      },
      "source": [
        "x = int (vl) #tranforma em int(inteiro)\r\n",
        "print(x)\r\n",
        "d = int (10.5)\r\n",
        "print(d)"
      ],
      "execution_count": 11,
      "outputs": [
        {
          "output_type": "stream",
          "text": [
            "5\n",
            "10\n"
          ],
          "name": "stdout"
        }
      ]
    },
    {
      "cell_type": "code",
      "metadata": {
        "colab": {
          "base_uri": "https://localhost:8080/"
        },
        "id": "CQAIMDejiPzJ",
        "outputId": "ee6468a3-3aa3-4b5d-8c66-428a862fbc8d"
      },
      "source": [
        "s = str (10) #tranforma em string (cadeia de caracteres)\r\n",
        "print(s)"
      ],
      "execution_count": 16,
      "outputs": [
        {
          "output_type": "stream",
          "text": [
            "10\n"
          ],
          "name": "stdout"
        }
      ]
    }
  ]
}