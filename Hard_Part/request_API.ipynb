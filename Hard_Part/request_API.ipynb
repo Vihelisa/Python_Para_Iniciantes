{
  "nbformat": 4,
  "nbformat_minor": 0,
  "metadata": {
    "colab": {
      "name": "request_API",
      "provenance": []
    },
    "kernelspec": {
      "name": "python3",
      "display_name": "Python 3"
    }
  },
  "cells": [
    {
      "cell_type": "code",
      "metadata": {
        "id": "0B69xyzNdT7U"
      },
      "source": [
        "import requests\r\n",
        "r = requests.get('https://github.com/timeline.json')"
      ],
      "execution_count": null,
      "outputs": []
    },
    {
      "cell_type": "code",
      "metadata": {
        "colab": {
          "base_uri": "https://localhost:8080/"
        },
        "id": "QHTcB8eydc7D",
        "outputId": "81fee4c3-0ae3-4323-abb9-7e9ef3c6e767"
      },
      "source": [
        "r #A requisição para a API deu erro pois o cógico 410 significa que o endereço de acesso não está mais disponível"
      ],
      "execution_count": null,
      "outputs": [
        {
          "output_type": "execute_result",
          "data": {
            "text/plain": [
              "<Response [410]>"
            ]
          },
          "metadata": {
            "tags": []
          },
          "execution_count": 12
        }
      ]
    },
    {
      "cell_type": "code",
      "metadata": {
        "id": "lti_nUEnd1iR"
      },
      "source": [
        " r1 = requests.post(\"http://httpbin.org/post\")\r\n",
        " r2 = requests.put(\"http://httpbin.org/put\")\r\n",
        " r3 = requests.delete(\"http://httpbin.org/delete\")\r\n",
        " r4 = requests.head(\"http://httpbin.org/get\")\r\n",
        " r5 = requests.options(\"http://httpbin.org/get\")"
      ],
      "execution_count": null,
      "outputs": []
    },
    {
      "cell_type": "code",
      "metadata": {
        "colab": {
          "base_uri": "https://localhost:8080/"
        },
        "id": "4dWiKJ1nfC7q",
        "outputId": "4c22555a-0b1e-4204-e8d9-c402018367b7"
      },
      "source": [
        "r1 #Código 200  quer dizer que deu tudo certo "
      ],
      "execution_count": null,
      "outputs": [
        {
          "output_type": "execute_result",
          "data": {
            "text/plain": [
              "<Response [200]>"
            ]
          },
          "metadata": {
            "tags": []
          },
          "execution_count": 10
        }
      ]
    },
    {
      "cell_type": "code",
      "metadata": {
        "colab": {
          "base_uri": "https://localhost:8080/"
        },
        "id": "jHy68-vdfFsv",
        "outputId": "7f1599a7-5e69-4f26-f520-299cbbad4e29"
      },
      "source": [
        "r2"
      ],
      "execution_count": null,
      "outputs": [
        {
          "output_type": "execute_result",
          "data": {
            "text/plain": [
              "<Response [200]>"
            ]
          },
          "metadata": {
            "tags": []
          },
          "execution_count": 6
        }
      ]
    },
    {
      "cell_type": "code",
      "metadata": {
        "colab": {
          "base_uri": "https://localhost:8080/"
        },
        "id": "HqWBXzTmfJ7d",
        "outputId": "00853671-70e3-4585-c1e5-ebdf42bf7b5b"
      },
      "source": [
        "r3"
      ],
      "execution_count": null,
      "outputs": [
        {
          "output_type": "execute_result",
          "data": {
            "text/plain": [
              "<Response [200]>"
            ]
          },
          "metadata": {
            "tags": []
          },
          "execution_count": 7
        }
      ]
    },
    {
      "cell_type": "code",
      "metadata": {
        "colab": {
          "base_uri": "https://localhost:8080/"
        },
        "id": "-8YYKDOxfLbV",
        "outputId": "204121bd-b327-4cbe-b5f6-87964df96782"
      },
      "source": [
        "r4"
      ],
      "execution_count": null,
      "outputs": [
        {
          "output_type": "execute_result",
          "data": {
            "text/plain": [
              "<Response [200]>"
            ]
          },
          "metadata": {
            "tags": []
          },
          "execution_count": 8
        }
      ]
    },
    {
      "cell_type": "code",
      "metadata": {
        "colab": {
          "base_uri": "https://localhost:8080/"
        },
        "id": "gu8xKzzwfMeS",
        "outputId": "de00cf9e-394e-4798-a49e-b90bd3aa1736"
      },
      "source": [
        "r5"
      ],
      "execution_count": null,
      "outputs": [
        {
          "output_type": "execute_result",
          "data": {
            "text/plain": [
              "<Response [200]>"
            ]
          },
          "metadata": {
            "tags": []
          },
          "execution_count": 9
        }
      ]
    },
    {
      "cell_type": "code",
      "metadata": {
        "id": "PQxnr0msfNtS"
      },
      "source": [
        ""
      ],
      "execution_count": null,
      "outputs": []
    }
  ]
}