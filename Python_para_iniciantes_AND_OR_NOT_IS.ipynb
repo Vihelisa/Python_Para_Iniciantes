{
  "nbformat": 4,
  "nbformat_minor": 0,
  "metadata": {
    "colab": {
      "name": "Python_para_iniciantes.AND_OR_NOT_IS",
      "provenance": [],
      "collapsed_sections": [],
      "authorship_tag": "ABX9TyPepz5sZuxgNxCzqnE8Vh/9",
      "include_colab_link": true
    },
    "kernelspec": {
      "name": "python3",
      "display_name": "Python 3"
    }
  },
  "cells": [
    {
      "cell_type": "markdown",
      "metadata": {
        "id": "view-in-github",
        "colab_type": "text"
      },
      "source": [
        "<a href=\"https://colab.research.google.com/github/Vihelisa/Python_Para_Iniciantes/blob/easy/Python_para_iniciantes_AND_OR_NOT_IS.ipynb\" target=\"_parent\"><img src=\"https://colab.research.google.com/assets/colab-badge.svg\" alt=\"Open In Colab\"/></a>"
      ]
    },
    {
      "cell_type": "code",
      "metadata": {
        "id": "aD5Oy1BWqD9E"
      },
      "source": [
        "\"\"\"\r\n",
        "  Estruturas lógicas: and(e), or(ou), not(não), is(é)\r\n",
        "  operadores unários: not, is\r\n",
        "  operadores binários:and, or\r\n",
        "\r\n",
        "  AND = Para o 'and' ambos precisam entrar na condição estipulada;\r\n",
        "  OR = Para o 'or' apenas uma das variáveis precisa estar dentro da condição estipulada;\r\n",
        "  NOT = Para o 'not' os valores dos booleanos são invertidos\r\n",
        "  IS = Para o 'is' \r\n",
        "  \r\n",
        "\"\"\""
      ],
      "execution_count": null,
      "outputs": []
    },
    {
      "cell_type": "markdown",
      "metadata": {
        "id": "ua37vZpRy3Ef"
      },
      "source": [
        "AND"
      ]
    },
    {
      "cell_type": "code",
      "metadata": {
        "colab": {
          "base_uri": "https://localhost:8080/"
        },
        "id": "27Vme2fmtrLe",
        "outputId": "5ffd2ae5-b00a-4ae7-c59f-527f7f325846"
      },
      "source": [
        "ativo = True\r\n",
        "logado = True\r\n",
        "\r\n",
        "if ativo and logado:\r\n",
        "  print('usuário ativo no sistema.')\r\n",
        "\r\n",
        "else:\r\n",
        "  print('Você precisa ativar a sua conta, por favor cheque seu e-mail')  "
      ],
      "execution_count": 11,
      "outputs": [
        {
          "output_type": "stream",
          "text": [
            "usuário ativo no sistema.\n"
          ],
          "name": "stdout"
        }
      ]
    },
    {
      "cell_type": "code",
      "metadata": {
        "colab": {
          "base_uri": "https://localhost:8080/"
        },
        "id": "9OE3YKmEyvxS",
        "outputId": "0cc0f232-ac8c-4051-bb6b-4d45697d6416"
      },
      "source": [
        "ativo = False\r\n",
        "logado = True\r\n",
        "\r\n",
        "if ativo and logado:\r\n",
        "  print('usuário ativo no sistema.')\r\n",
        "\r\n",
        "else:\r\n",
        "  print('Você precisa ativar a sua conta, por favor cheque seu e-mail')  "
      ],
      "execution_count": 12,
      "outputs": [
        {
          "output_type": "stream",
          "text": [
            "Você precisa ativar a sua conta, por favor cheque seu e-mail\n"
          ],
          "name": "stdout"
        }
      ]
    },
    {
      "cell_type": "markdown",
      "metadata": {
        "id": "IKJljvuQy6S1"
      },
      "source": [
        "OR\r\n"
      ]
    },
    {
      "cell_type": "code",
      "metadata": {
        "colab": {
          "base_uri": "https://localhost:8080/"
        },
        "id": "t0pmoyHLy69l",
        "outputId": "5ec975e0-413f-455e-daf7-b260605158cf"
      },
      "source": [
        "ativo = True\r\n",
        "logado = False\r\n",
        "\r\n",
        "if ativo or logado:\r\n",
        "  print('usuário ativo no sistema.')\r\n",
        "\r\n",
        "else:\r\n",
        "  print('Você precisa ativar a sua conta, por favor cheque seu e-mail')  "
      ],
      "execution_count": 14,
      "outputs": [
        {
          "output_type": "stream",
          "text": [
            "usuário ativo no sistema.\n"
          ],
          "name": "stdout"
        }
      ]
    },
    {
      "cell_type": "markdown",
      "metadata": {
        "id": "c2MW33otztXi"
      },
      "source": [
        "NOT"
      ]
    },
    {
      "cell_type": "code",
      "metadata": {
        "colab": {
          "base_uri": "https://localhost:8080/"
        },
        "id": "fmr7Cbvjzt_g",
        "outputId": "dbc9adba-d466-4209-a6ed-3ce7e4658438"
      },
      "source": [
        "ativo = True\r\n",
        "\r\n",
        "if not ativo:\r\n",
        "    print('Usuário não encontrado, por favor realize seu cadastro.')\r\n",
        "\r\n",
        "else:\r\n",
        "  print('Usuário está ativo!!')"
      ],
      "execution_count": 15,
      "outputs": [
        {
          "output_type": "stream",
          "text": [
            "Usuário está ativo!!\n"
          ],
          "name": "stdout"
        }
      ]
    },
    {
      "cell_type": "code",
      "metadata": {
        "colab": {
          "base_uri": "https://localhost:8080/"
        },
        "id": "BW7Zwume1P4d",
        "outputId": "94edf193-edba-4e41-922d-c96a198a56f6"
      },
      "source": [
        "ativo = False\r\n",
        "\r\n",
        "if not ativo:\r\n",
        "    print('Usuário não encontrado, por favor realize seu cadastro.')\r\n",
        "\r\n",
        "else:\r\n",
        "  print('Usuário está ativo!!')"
      ],
      "execution_count": 16,
      "outputs": [
        {
          "output_type": "stream",
          "text": [
            "Usuário não encontrado, por favor realize seu cadastro.\n"
          ],
          "name": "stdout"
        }
      ]
    },
    {
      "cell_type": "markdown",
      "metadata": {
        "id": "iYHAe6_u1Z3l"
      },
      "source": [
        "IS"
      ]
    },
    {
      "cell_type": "code",
      "metadata": {
        "colab": {
          "base_uri": "https://localhost:8080/"
        },
        "id": "1jc1pfLh1abl",
        "outputId": "fad42362-bf48-453c-9bc9-70a4b349e072"
      },
      "source": [
        "ativo = True\r\n",
        "\r\n",
        "if ativo is True:\r\n",
        "    print('Usuário está ativo!!')\r\n",
        "\r\n",
        "else:\r\n",
        "    print('Usuário não encontrado, por favor realize seu cadastro.')\r\n"
      ],
      "execution_count": 6,
      "outputs": [
        {
          "output_type": "stream",
          "text": [
            "Usuário está ativo!!\n"
          ],
          "name": "stdout"
        }
      ]
    },
    {
      "cell_type": "code",
      "metadata": {
        "colab": {
          "base_uri": "https://localhost:8080/"
        },
        "id": "IuEx2KXo1333",
        "outputId": "8c16889b-d498-4a51-a445-1506f4926e70"
      },
      "source": [
        "ativo = False\r\n",
        "\r\n",
        "if ativo is True:\r\n",
        "    print('Usuário está ativo!!')\r\n",
        "\r\n",
        "else:\r\n",
        "    print('Usuário não encontrado, por favor realize seu cadastro.')\r\n"
      ],
      "execution_count": 7,
      "outputs": [
        {
          "output_type": "stream",
          "text": [
            "Usuário não encontrado, por favor realize seu cadastro.\n"
          ],
          "name": "stdout"
        }
      ]
    }
  ]
}