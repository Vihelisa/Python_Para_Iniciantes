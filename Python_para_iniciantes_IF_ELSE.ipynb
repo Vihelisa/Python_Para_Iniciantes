{
  "nbformat": 4,
  "nbformat_minor": 0,
  "metadata": {
    "colab": {
      "name": "Python_para_iniciantes.IF_ELSE",
      "provenance": [],
      "authorship_tag": "ABX9TyMJmhH4/WcGv2DGqRAZwu+9",
      "include_colab_link": true
    },
    "kernelspec": {
      "name": "python3",
      "display_name": "Python 3"
    }
  },
  "cells": [
    {
      "cell_type": "markdown",
      "metadata": {
        "id": "view-in-github",
        "colab_type": "text"
      },
      "source": [
        "<a href=\"https://colab.research.google.com/github/Vihelisa/Python_Para_Iniciantes/blob/main/Python_para_iniciantes_IF_ELSE.ipynb\" target=\"_parent\"><img src=\"https://colab.research.google.com/assets/colab-badge.svg\" alt=\"Open In Colab\"/></a>"
      ]
    },
    {
      "cell_type": "code",
      "metadata": {
        "colab": {
          "base_uri": "https://localhost:8080/"
        },
        "id": "8YbF9VQdTQxn",
        "outputId": "8ce674ee-e480-450e-cd78-6986cafbfc0a"
      },
      "source": [
        "num = 1\r\n",
        "if (num==1):\r\n",
        "  print('O número é 1')"
      ],
      "execution_count": 2,
      "outputs": [
        {
          "output_type": "stream",
          "text": [
            "O número é 1\n"
          ],
          "name": "stdout"
        }
      ]
    },
    {
      "cell_type": "code",
      "metadata": {
        "colab": {
          "base_uri": "https://localhost:8080/"
        },
        "id": "DID0OMtXV84g",
        "outputId": "8d4dea55-96fc-43ec-ef1f-e2dfd30a83de"
      },
      "source": [
        "num = int (input('Digite um número:'))\r\n",
        "if (num < 10):\r\n",
        "  print('O numero é menor que 10')\r\n",
        "\r\n",
        "elif (num==10):\r\n",
        "  print('O número é igual a 10')\r\n",
        "\r\n",
        "else:\r\n",
        "  print('O número é maior que 10')\r\n"
      ],
      "execution_count": 14,
      "outputs": [
        {
          "output_type": "stream",
          "text": [
            "Digite um número:30\n",
            "O número é maior que 10\n"
          ],
          "name": "stdout"
        }
      ]
    },
    {
      "cell_type": "code",
      "metadata": {
        "colab": {
          "base_uri": "https://localhost:8080/"
        },
        "id": "4I3VLCgHW4tr",
        "outputId": "3193f9af-bdc7-44f8-f608-db21f7c23a55"
      },
      "source": [
        "nome = input('Escreva um nome:')\r\n",
        "letra = input('Indique uma letra:')\r\n",
        "if letra in nome: \r\n",
        "  print('O nome tem a letra')\r\n",
        "\r\n",
        "elif (letra not in nome): \r\n",
        "  print('O nome não tem essa letra')\r\n",
        "\r\n",
        "else: \r\n",
        "  pass  #O pass faz com que o programa passe por ali sem ter que executar algo.\r\n"
      ],
      "execution_count": 22,
      "outputs": [
        {
          "output_type": "stream",
          "text": [
            "Escreva um nome:AMORA\n",
            "Indique uma letra:A\n",
            "O nome tem a letra\n"
          ],
          "name": "stdout"
        }
      ]
    },
    {
      "cell_type": "code",
      "metadata": {
        "id": "OTPkBKsLZ3pb"
      },
      "source": [
        ""
      ],
      "execution_count": null,
      "outputs": []
    }
  ]
}