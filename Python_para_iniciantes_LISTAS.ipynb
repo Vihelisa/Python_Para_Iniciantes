{
  "nbformat": 4,
  "nbformat_minor": 0,
  "metadata": {
    "colab": {
      "name": "Python_para_iniciantes.LISTAS",
      "provenance": [],
      "authorship_tag": "ABX9TyN0R0NRaaAanixnszGXWff6",
      "include_colab_link": true
    },
    "kernelspec": {
      "name": "python3",
      "display_name": "Python 3"
    }
  },
  "cells": [
    {
      "cell_type": "markdown",
      "metadata": {
        "id": "view-in-github",
        "colab_type": "text"
      },
      "source": [
        "<a href=\"https://colab.research.google.com/github/Vihelisa/Python_Para_Iniciantes/blob/main/Python_para_iniciantes_LISTAS.ipynb\" target=\"_parent\"><img src=\"https://colab.research.google.com/assets/colab-badge.svg\" alt=\"Open In Colab\"/></a>"
      ]
    },
    {
      "cell_type": "code",
      "metadata": {
        "colab": {
          "base_uri": "https://localhost:8080/"
        },
        "id": "m-MWusfY2q4B",
        "outputId": "a6774590-029b-4901-e77e-749b98a17122"
      },
      "source": [
        "#Conjunto de informações, numéricas ou strings, que estão ordenadas por uma certa ordem.\r\n",
        "\r\n",
        "#CRIANDO UMA LISTA:\r\n",
        "lista = [1, 2, 3, 'E lá vamos nós', 4, 5, 6, 2, 2]\r\n",
        "print(lista)"
      ],
      "execution_count": 17,
      "outputs": [
        {
          "output_type": "stream",
          "text": [
            "[1, 2, 3, 'E lá vamos nós', 4, 5, 6, 2, 2]\n"
          ],
          "name": "stdout"
        }
      ]
    },
    {
      "cell_type": "markdown",
      "metadata": {
        "id": "JY7sO5Ly4QRa"
      },
      "source": [
        "Funções para usar com  LISTAS"
      ]
    },
    {
      "cell_type": "code",
      "metadata": {
        "colab": {
          "base_uri": "https://localhost:8080/"
        },
        "id": "R_9qcdnp4PZh",
        "outputId": "91a7eb61-d585-468f-c8e6-7ef338fdc6f2"
      },
      "source": [
        "#PARA ADD UMA INFORMAÇÃO A LISTA:\r\n",
        "lista_nomes = ['Tonny Stark']\r\n",
        "lista_nomes.append('HULK')\r\n",
        "print(lista_nomes)\r\n",
        "\r\n",
        "#Para o usuário indicar qual informação será add\r\n",
        "lista_nomes.append(input(\"Digite um nome:\"))\r\n",
        "print(lista_nomes)"
      ],
      "execution_count": 3,
      "outputs": [
        {
          "output_type": "stream",
          "text": [
            "['Tonny Stark', 'HULK']\n",
            "Digite um nome:Viuva Negra\n",
            "['Tonny Stark', 'HULK', 'Viuva Negra']\n"
          ],
          "name": "stdout"
        }
      ]
    },
    {
      "cell_type": "code",
      "metadata": {
        "id": "LE-pBeaj4Avo"
      },
      "source": [
        "#Qual a posição de uma informação dentro da lista:\r\n",
        "n1 = lista_nomes.index('Tonny Stark')\r\n",
        "n2 = lista_nomes.index('Viuva Negra')\r\n",
        "print(n1)\r\n",
        "print(n2)\r\n",
        "lista.index(6)"
      ],
      "execution_count": null,
      "outputs": []
    },
    {
      "cell_type": "code",
      "metadata": {
        "colab": {
          "base_uri": "https://localhost:8080/"
        },
        "id": "3gMyvDCH5z4k",
        "outputId": "b7a2baed-c84f-4058-c01a-347e3bd68ce0"
      },
      "source": [
        "#Quantas vezes uma informação se repete dentro da lista:\r\n",
        "lista_nomes.count('Tonny Stark')\r\n",
        "lista.count(2)"
      ],
      "execution_count": 18,
      "outputs": [
        {
          "output_type": "execute_result",
          "data": {
            "text/plain": [
              "3"
            ]
          },
          "metadata": {
            "tags": []
          },
          "execution_count": 18
        }
      ]
    },
    {
      "cell_type": "code",
      "metadata": {
        "colab": {
          "base_uri": "https://localhost:8080/"
        },
        "id": "v-rLhD4-7Hu0",
        "outputId": "c2360198-07ce-4ce4-ef9f-fc6296fa06d7"
      },
      "source": [
        "#Remover uma variável que não intereça:\r\n",
        "list_BBB = ['Juliette', 'Sarah', 'Gil', 'Karol Conká']\r\n",
        "print(list_BBB)\r\n",
        "list_BBB.remove('Karol Conká')\r\n",
        "print('BEM MELHOR:', list_BBB)"
      ],
      "execution_count": 20,
      "outputs": [
        {
          "output_type": "stream",
          "text": [
            "['Juliette', 'Sarah', 'Gil', 'Karol Conká']\n",
            "BEM MELHOR: ['Juliette', 'Sarah', 'Gil']\n"
          ],
          "name": "stdout"
        }
      ]
    },
    {
      "cell_type": "code",
      "metadata": {
        "colab": {
          "base_uri": "https://localhost:8080/"
        },
        "id": "GVncrU4z8Yy_",
        "outputId": "a1e9c7de-aab2-4741-9bb2-d03b836aa4a7"
      },
      "source": [
        "#Para inverter a lista, os lugares/posições que cada informação ocupava\r\n",
        "lista.reverse()\r\n",
        "print(lista)\r\n",
        "list_BBB.reverse()\r\n",
        "print(list_BBB)\r\n",
        "lista_nomes.reverse\r\n",
        "print(lista_nomes)"
      ],
      "execution_count": 30,
      "outputs": [
        {
          "output_type": "stream",
          "text": [
            "[2, 2, 6, 5, 4, 'E lá vamos nós', 3, 2, 1]\n",
            "['Gil', 'Sarah', 'Juliette']\n",
            "['Viuva Negra', 'HULK', 'Tonny Stark']\n"
          ],
          "name": "stdout"
        }
      ]
    },
    {
      "cell_type": "code",
      "metadata": {
        "colab": {
          "base_uri": "https://localhost:8080/"
        },
        "id": "iIHeKEL69qbT",
        "outputId": "d27025b8-06c6-4a22-c2f1-3d508373ca17"
      },
      "source": [
        "#Ordenar uma lista numerica:\r\n",
        "list_num = [3, 0, 6, 1, 5, 3, 8, 22, 4]\r\n",
        "print(list_num)\r\n",
        "list_num.sort()\r\n",
        "print(list_num)"
      ],
      "execution_count": 31,
      "outputs": [
        {
          "output_type": "stream",
          "text": [
            "[3, 0, 6, 1, 5, 3, 8, 22, 4]\n",
            "[0, 1, 3, 3, 4, 5, 6, 8, 22]\n"
          ],
          "name": "stdout"
        }
      ]
    }
  ]
}