{
  "nbformat": 4,
  "nbformat_minor": 0,
  "metadata": {
    "colab": {
      "name": "Python_para_iniciantes.PASS/BREAK/CONTINUE",
      "provenance": [],
      "authorship_tag": "ABX9TyOjOXoz7KB8nivVFfnFzIlM",
      "include_colab_link": true
    },
    "kernelspec": {
      "name": "python3",
      "display_name": "Python 3"
    }
  },
  "cells": [
    {
      "cell_type": "markdown",
      "metadata": {
        "id": "view-in-github",
        "colab_type": "text"
      },
      "source": [
        "<a href=\"https://colab.research.google.com/github/Vihelisa/Python_Para_Iniciantes/blob/main/Python_para_iniciantes_PASS_BREAK_CONTINUE.ipynb\" target=\"_parent\"><img src=\"https://colab.research.google.com/assets/colab-badge.svg\" alt=\"Open In Colab\"/></a>"
      ]
    },
    {
      "cell_type": "markdown",
      "metadata": {
        "id": "zi4QTDZXdQJY"
      },
      "source": [
        "BREAK"
      ]
    },
    {
      "cell_type": "code",
      "metadata": {
        "colab": {
          "base_uri": "https://localhost:8080/"
        },
        "id": "vErG0ZFtbbhw",
        "outputId": "9813d409-7f84-4e3b-837c-d9a11712e9eb"
      },
      "source": [
        "num = 20\r\n",
        "print(num)\r\n",
        "\r\n",
        "while True:\r\n",
        "  num = num - 1\r\n",
        "  print(num)\r\n",
        "  if num == 2:\r\n",
        "    break\r\n",
        "    "
      ],
      "execution_count": 2,
      "outputs": [
        {
          "output_type": "stream",
          "text": [
            "20\n",
            "19\n",
            "18\n",
            "17\n",
            "16\n",
            "15\n",
            "14\n",
            "13\n",
            "12\n",
            "11\n",
            "10\n",
            "9\n",
            "8\n",
            "7\n",
            "6\n",
            "5\n",
            "4\n",
            "3\n",
            "2\n"
          ],
          "name": "stdout"
        }
      ]
    },
    {
      "cell_type": "markdown",
      "metadata": {
        "id": "e5rS_s7jdTzf"
      },
      "source": [
        "CONTINUE"
      ]
    },
    {
      "cell_type": "code",
      "metadata": {
        "colab": {
          "base_uri": "https://localhost:8080/"
        },
        "id": "IPwKBpdWb-9y",
        "outputId": "5e415b23-295b-4ac8-a4c7-4e11d26d5133"
      },
      "source": [
        "numero = 10\r\n",
        "while True:\r\n",
        "  numero = numero - 1\r\n",
        "  if numero == 4: \r\n",
        "    continue #ele faz voltar para o inicio, sendo assim quando ele é igual a 4, ele volta para o inicio e faz que quando numero == 4 faz 4-1=3, e por isso não printa o 4.\r\n",
        "  print(numero)  \r\n",
        "  if numero == 2:\r\n",
        "    break\r\n"
      ],
      "execution_count": 3,
      "outputs": [
        {
          "output_type": "stream",
          "text": [
            "9\n",
            "8\n",
            "7\n",
            "6\n",
            "5\n",
            "3\n",
            "2\n"
          ],
          "name": "stdout"
        }
      ]
    },
    {
      "cell_type": "markdown",
      "metadata": {
        "id": "EqarNKsOfBhR"
      },
      "source": [
        "PASS"
      ]
    },
    {
      "cell_type": "code",
      "metadata": {
        "colab": {
          "base_uri": "https://localhost:8080/"
        },
        "id": "Jnztg3W9eK-v",
        "outputId": "83fccc43-cb6c-48e2-8535-bac281b22919"
      },
      "source": [
        "#Ele não faz nada, apenas passa o código pra frente, muito usado principalmente quando não queremos que certa parte do \r\n",
        "#código não execute nada, mas precisa ter algo nele para funcionar.\r\n",
        "num = 10 \r\n",
        "if num > 0: \r\n",
        "  pass\r\n",
        "print('PASSOU!!')"
      ],
      "execution_count": 5,
      "outputs": [
        {
          "output_type": "stream",
          "text": [
            "PASSOU!!\n"
          ],
          "name": "stdout"
        }
      ]
    },
    {
      "cell_type": "code",
      "metadata": {
        "id": "QGifi__bfgsB"
      },
      "source": [
        ""
      ],
      "execution_count": null,
      "outputs": []
    }
  ]
}