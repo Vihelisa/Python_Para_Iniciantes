{
  "nbformat": 4,
  "nbformat_minor": 0,
  "metadata": {
    "colab": {
      "name": "Python_para_iniciantes.WHILE_LOOP",
      "provenance": [],
      "authorship_tag": "ABX9TyNlCJlVpdm6kmEdBRnLWwXx",
      "include_colab_link": true
    },
    "kernelspec": {
      "name": "python3",
      "display_name": "Python 3"
    }
  },
  "cells": [
    {
      "cell_type": "markdown",
      "metadata": {
        "id": "view-in-github",
        "colab_type": "text"
      },
      "source": [
        "<a href=\"https://colab.research.google.com/github/Vihelisa/Python_Para_Iniciantes/blob/main/Python_para_iniciantes_WHILE_LOOP.ipynb\" target=\"_parent\"><img src=\"https://colab.research.google.com/assets/colab-badge.svg\" alt=\"Open In Colab\"/></a>"
      ]
    },
    {
      "cell_type": "code",
      "metadata": {
        "colab": {
          "base_uri": "https://localhost:8080/"
        },
        "id": "6Cv3RqktNhNe",
        "outputId": "a9c90872-5f7d-44f5-eaa3-14a9db5dd6e9"
      },
      "source": [
        "num = 15\r\n",
        "while num > 0: \r\n",
        "  print(num)\r\n",
        "  num = num - 1\r\n"
      ],
      "execution_count": null,
      "outputs": [
        {
          "output_type": "stream",
          "text": [
            "15\n",
            "14\n",
            "13\n",
            "12\n",
            "11\n",
            "10\n",
            "9\n",
            "8\n",
            "7\n",
            "6\n",
            "5\n",
            "4\n",
            "3\n",
            "2\n",
            "1\n"
          ],
          "name": "stdout"
        }
      ]
    },
    {
      "cell_type": "code",
      "metadata": {
        "colab": {
          "base_uri": "https://localhost:8080/"
        },
        "id": "G2-tuvuk_QHp",
        "outputId": "d776b4a7-4f83-4d74-edc6-912834138b00"
      },
      "source": [
        "i = 0\r\n",
        "lista_nomes = ['Tonny Stark']\r\n",
        "while i < 3: \r\n",
        "  i = i+1 \r\n",
        "  lista_nomes.append(input(\"Digite um nome:\"))\r\n",
        "  print(lista_nomes)\r\n",
        "  \r\n"
      ],
      "execution_count": 5,
      "outputs": [
        {
          "output_type": "stream",
          "text": [
            "Digite um nome:Hulk\n",
            "['Tonny Stark', 'Hulk']\n",
            "Digite um nome:Thor\n",
            "['Tonny Stark', 'Hulk', 'Thor']\n",
            "Digite um nome:Capitão América\n",
            "['Tonny Stark', 'Hulk', 'Thor', 'Capitão América']\n"
          ],
          "name": "stdout"
        }
      ]
    },
    {
      "cell_type": "code",
      "metadata": {
        "id": "JDacyh_b_hIw"
      },
      "source": [
        ""
      ],
      "execution_count": null,
      "outputs": []
    }
  ]
}